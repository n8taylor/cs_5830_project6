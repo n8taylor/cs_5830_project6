{
 "cells": [
  {
   "cell_type": "markdown",
   "metadata": {},
   "source": [
    "# Project 6"
   ]
  },
  {
   "cell_type": "code",
   "execution_count": null,
   "metadata": {},
   "outputs": [],
   "source": [
    "import pandas as pd"
   ]
  },
  {
   "cell_type": "code",
   "execution_count": null,
   "metadata": {},
   "outputs": [],
   "source": [
    "df = pd.read_csv('dataset/RRCA_baseflow.csv')\n",
    "df['Date'] = df['Date'] - 693963\n",
    "display(df)\n",
    "display(f'Unique dates sampled: {len(df.Date.unique()), df.Date.unique().tolist()}')\n",
    "display(f'Unique segments sampled: {len(df.Segment_id.unique()), df.Date.unique().tolist()}')\n",
    "bySegment = df.groupby('Segment_id').count()\n",
    "display(bySegment)\n",
    "display(bySegment.std().Date)\n",
    "display(bySegment.mean().Date)\n",
    "# TODO: Drop segments with very few (or very many?) samples\n"
   ]
  }
 ],
 "metadata": {
  "kernelspec": {
   "display_name": "Python 3",
   "language": "python",
   "name": "python3"
  },
  "language_info": {
   "codemirror_mode": {
    "name": "ipython",
    "version": 3
   },
   "file_extension": ".py",
   "mimetype": "text/x-python",
   "name": "python",
   "nbconvert_exporter": "python",
   "pygments_lexer": "ipython3",
   "version": "3.11.0"
  }
 },
 "nbformat": 4,
 "nbformat_minor": 2
}
