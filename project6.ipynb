{
 "cells": [
  {
   "cell_type": "markdown",
   "metadata": {},
   "source": [
    "# Project 6"
   ]
  },
  {
   "cell_type": "code",
   "execution_count": null,
   "metadata": {},
   "outputs": [],
   "source": [
    "import pandas as pd\n",
    "import matplotlib.pyplot as plt\n",
    "import seaborn as sns\n",
    "from sklearn.linear_model import LinearRegression\n",
    "from sklearn.model_selection import train_test_split\n",
    "from sklearn.metrics import mean_squared_error\n",
    "import numpy as np\n",
    "from sklearn.metrics import mean_absolute_error, mean_squared_error, r2_score"
   ]
  },
  {
   "cell_type": "markdown",
   "metadata": {},
   "source": [
    "## Exploring the dataset"
   ]
  },
  {
   "cell_type": "code",
   "execution_count": null,
   "metadata": {},
   "outputs": [],
   "source": [
    "df = pd.read_csv('dataset/RRCA_baseflow.csv')\n",
    "display(df.head())\n",
    "display(df.shape)\n",
    "\n",
    "# Make the date easier to work with\n",
    "df['Date'] = df['Date'] - 693963\n",
    "df['Readable_Date'] = pd.to_datetime(df.Date.astype('int'), unit='D', origin=pd.Timestamp('1900-01-01'))\n",
    "df['year'] = df.Readable_Date.apply(lambda x:pd.to_datetime(x).year)\n",
    "df['month'] = df.Readable_Date.apply(lambda x:pd.to_datetime(x).month)\n",
    "df['day'] = df.Readable_Date.apply(lambda x:pd.to_datetime(x).day)\n",
    "display(df)\n",
    "\n",
    "bySegment = df.groupby('Segment_id').count()\n",
    "\n",
    "segmentDateMinMax = df.groupby('Segment_id')['Date'].agg(['min', 'max']).reset_index()"
   ]
  },
  {
   "cell_type": "markdown",
   "metadata": {},
   "source": [
    "### Looking at scatterplots data over time, positional data, individual segments, and doing background research."
   ]
  },
  {
   "cell_type": "code",
   "execution_count": null,
   "metadata": {},
   "outputs": [],
   "source": [
    "plt.figure(figsize=(20, 13))\n",
    "#First lets do some scatterplots\n",
    "for segment_id in df['Segment_id'].unique():\n",
    "  segment_data = df[df['Segment_id'] == segment_id]\n",
    "  plt.scatter(segment_data['Date'], segment_data['Observed'], label=f'Segment {segment_id}')\n",
    "  \n",
    "plt.xlabel('Date')\n",
    "plt.ylabel('Observed Baseflow')\n",
    "plt.title('Date vs Baseflow')\n",
    "plt.legend(loc='best')  # Change the position of the legend to upper right\n",
    "plt.show()\n",
    "# First let's do some scatterplots\n",
    "top_two_segments = bySegment.nlargest(2, 'Date')\n",
    "display(top_two_segments)"
   ]
  },
  {
   "cell_type": "code",
   "execution_count": null,
   "metadata": {},
   "outputs": [],
   "source": [
    "# Identify the two segments with baseflows observed below 0\n",
    "segmentsBelowZero = df[df['Observed'] < 0]['Segment_id'].unique().tolist()\n",
    "display(segmentsBelowZero)\n",
    "\n",
    "for segment in segmentsBelowZero:\n",
    "    df[df.Segment_id == segment].plot(x='Date', y='Observed')\n",
    "\n",
    "# Remove these segments because it seems like there was a data collection error\n",
    "for segment in segmentsBelowZero:\n",
    "    df = df[df.Segment_id != segment]\n",
    "df.Segment_id.unique()"
   ]
  },
  {
   "cell_type": "code",
   "execution_count": null,
   "metadata": {},
   "outputs": [],
   "source": [
    "for segment_id in df['Segment_id'].unique():\n",
    "    segment_data = df[df['Segment_id'] == segment_id]\n",
    "    if segment_data['Observed'].max() > 200:\n",
    "        plt.scatter(segment_data['Date'], segment_data['Observed'], label=f'Segment {segment_id}')\n",
    "\n",
    "plt.xlabel('Date')\n",
    "plt.ylabel('Observed Baseflow')\n",
    "plt.title('Date vs Baseflow')\n",
    "plt.legend(loc='best')  # Change the position of the legend to upper right\n",
    "plt.show()"
   ]
  },
  {
   "cell_type": "code",
   "execution_count": null,
   "metadata": {},
   "outputs": [],
   "source": [
    "# Remove segments that are outliers to the normal range of observed baseflow\n",
    "segmentObservedMinMax = df.groupby('Segment_id')['Observed'].agg(['min', 'max', 'mean']).reset_index()\n",
    "display(segmentObservedMinMax.sort_values('max'))\n",
    "display(segmentObservedMinMax.sort_values('mean'))\n",
    "outlierSegments = segmentObservedMinMax.sort_values('mean', ascending=False).head(2).Segment_id.tolist()\n",
    "for outlier in outlierSegments:\n",
    "    df = df[df.Segment_id != outlier]"
   ]
  },
  {
   "cell_type": "code",
   "execution_count": null,
   "metadata": {},
   "outputs": [],
   "source": [
    "plt.figure(figsize=(20, 13))\n",
    "#First lets do some scatterplots\n",
    "for segment_id in df['Segment_id'].unique():\n",
    "  segment_data = df[df['Segment_id'] == segment_id]\n",
    "  plt.scatter(segment_data['Date'], segment_data['Observed'], label=f'Segment {segment_id}')\n",
    "  \n",
    "plt.xlabel('Date')\n",
    "plt.ylabel('Observed Baseflow')\n",
    "plt.title('Date vs Baseflow')\n",
    "plt.legend(loc='best')  # Change the position of the legend to upper right\n",
    "plt.show()\n",
    "# First let's do some scatterplots\n",
    "top_two_segments = bySegment.nlargest(2, 'Date')\n",
    "display(top_two_segments)"
   ]
  },
  {
   "cell_type": "code",
   "execution_count": null,
   "metadata": {},
   "outputs": [],
   "source": [
    "plt.scatter(df['Evapotranspiration'], df['Observed'])\n",
    "plt.xlabel('Evapotranspiration')\n",
    "plt.ylabel('Observed')\n",
    "plt.title('Observed vs Evapotranspiration')\n",
    "plt.show()\n",
    "\n",
    "plt.scatter(df['Precipitation'], df['Observed'])\n",
    "plt.xlabel('Precipitation')\n",
    "plt.ylabel('Observed')\n",
    "plt.title('Observed vs Precipitation')\n",
    "plt.show()\n",
    "\n",
    "plt.scatter(df['Irrigation_pumping'], df['Observed'])\n",
    "plt.xlabel('Irrigation_pumping')\n",
    "plt.ylabel('Observed')\n",
    "plt.title('Observed vs Irrigation_pumping')\n",
    "plt.show()\n",
    "\n",
    "\n"
   ]
  },
  {
   "cell_type": "markdown",
   "metadata": {},
   "source": [
    "### Initial prediction testing"
   ]
  },
  {
   "cell_type": "code",
   "execution_count": null,
   "metadata": {},
   "outputs": [],
   "source": [
    "feature_cols = [\t'x',\t'y',\t'Evapotranspiration',\t'Precipitation',\t'Irrigation_pumping']\n",
    "X = df[feature_cols]\n",
    "y = df[\"Observed\"]\n",
    "X_train, X_test, y_train, y_test = train_test_split(X, y, test_size=0.2, random_state=42)\n",
    "#Segment_id\tx\ty\tEvapotranspiration\tPrecipitation\tIrrigation_pumping\tObserved\n",
    "lm = LinearRegression()\n",
    "lm.fit(X_train, y_train)\n",
    "\n",
    "\n",
    "predictions = lm.predict(X_test)\n",
    "print(predictions)\n",
    "r_squared = r2_score(y_test, predictions)\n",
    "print(r_squared)\n",
    "display(X_test)\n",
    "\n",
    "plt.scatter(range(len(predictions)), predictions, label='Predictions')\n",
    "plt.xlabel('Index')\n",
    "plt.ylabel('Predicted Value')\n",
    "plt.legend()\n",
    "plt.show()\n"
   ]
  },
  {
   "cell_type": "code",
   "execution_count": null,
   "metadata": {},
   "outputs": [],
   "source": [
    "import matplotlib.pyplot as plt\n",
    "\n",
    "# Plot the actual data points\n",
    "plt.scatter(X_test[\"Evapotranspiration\"], y_test, color='blue', label='Actual Data')\n",
    "\n",
    "# Plot the linear regression line\n",
    "plt.plot(X_test[\"Evapotranspiration\"], predictions, color='red', linewidth=2, label='Linear Regression Line')\n",
    "\n",
    "# Add labels and title\n",
    "plt.xlabel('x')\n",
    "plt.ylabel('Target Variable')\n",
    "plt.title('Linear Regression Model')\n",
    "\n",
    "# Add legend\n",
    "plt.legend()\n",
    "\n",
    "# Show plot\n",
    "plt.show()\n"
   ]
  },
  {
   "cell_type": "markdown",
   "metadata": {},
   "source": [
    "### Visualizing the data"
   ]
  },
  {
   "cell_type": "code",
   "execution_count": null,
   "metadata": {},
   "outputs": [],
   "source": [
    "sns.lineplot(data=df, x='year', y='Observed')\n",
    "plt.xlabel('Year')\n",
    "plt.ylabel('Observed Baseflow')\n",
    "plt.title('Average Baseflow per Year of All Segments')"
   ]
  },
  {
   "cell_type": "code",
   "execution_count": null,
   "metadata": {},
   "outputs": [],
   "source": [
    "sns.lineplot(data=df, x='month', y='Observed')\n",
    "plt.xlabel('Month')\n",
    "plt.ylabel('Observed Baseflow')\n",
    "plt.title('Average Baseflow per Month of All Segments')"
   ]
  },
  {
   "cell_type": "code",
   "execution_count": null,
   "metadata": {},
   "outputs": [],
   "source": [
    "sns.lineplot(data=df, x='year', y='Observed', hue=\"month\")\n",
    "plt.xlabel('Year')\n",
    "plt.ylabel('Observed Baseflow')\n",
    "plt.title('Average Monthly Baseflow per Year of All Segments')"
   ]
  },
  {
   "cell_type": "code",
   "execution_count": null,
   "metadata": {},
   "outputs": [],
   "source": [
    "sns.lineplot(data=df, x='month', y='Observed', hue=\"year\")\n",
    "plt.xlabel('Month')\n",
    "plt.ylabel('Observed Baseflow')\n",
    "plt.title('Average Baseflow per Month by Year of All Segments')"
   ]
  },
  {
   "cell_type": "code",
   "execution_count": null,
   "metadata": {},
   "outputs": [],
   "source": [
    "avgObservedPerYear = df.groupby('year')['Observed'].mean().reset_index()\n",
    "display(avgObservedPerYear)\n",
    "\n",
    "sns.lineplot(data=avgObservedPerYear, x='year', y='Observed')\n",
    "plt.xlabel('Year')\n",
    "plt.ylabel('Observed Baseflow')\n",
    "plt.title('Average Baseflow per Year of All Segments')"
   ]
  },
  {
   "cell_type": "code",
   "execution_count": null,
   "metadata": {},
   "outputs": [],
   "source": [
    "avgObservedPerMonth = df.groupby('month')['Observed'].mean().reset_index()\n",
    "display(avgObservedPerMonth)\n",
    "\n",
    "sns.lineplot(data=avgObservedPerMonth, x='month', y='Observed')\n",
    "plt.xlabel('Month')\n",
    "plt.ylabel('Observed Baseflow')\n",
    "plt.title('Average Baseflow per Year of All Segments')"
   ]
  },
  {
   "cell_type": "code",
   "execution_count": null,
   "metadata": {},
   "outputs": [],
   "source": [
    "df['monthsSince1900'] = df['month'] + df['year'] * 12 - 22800\n",
    "display(df)\n",
    "\n",
    "sns.lineplot(data=df, x='monthsSince1900', y='Observed')\n",
    "plt.ylabel('Observed Baseflow')\n",
    "plt.title('Average Baseflow per Month of All Segments')\n",
    "plt.xlabel('Months since 1900')"
   ]
  },
  {
   "cell_type": "code",
   "execution_count": null,
   "metadata": {},
   "outputs": [],
   "source": [
    "# visualize the relationship between the features and the response using scatterplots\n",
    "fig, axs = plt.subplots(1, 3, sharey=True)\n",
    "df.plot(kind='scatter', x='Date', y='Observed', ax=axs[0], figsize=(20, 8))\n",
    "df.plot(kind='scatter', x='year', y='Observed', ax=axs[1])\n",
    "df.plot(kind='scatter', x='month', y='Observed', ax=axs[2])\n",
    "axs[0].set_title('Date vs Baseflow')\n",
    "axs[1].set_title('Year vs Baseflow')\n",
    "axs[2].set_title('Month vs Baseflow')"
   ]
  },
  {
   "cell_type": "code",
   "execution_count": null,
   "metadata": {},
   "outputs": [],
   "source": [
    "# visualize the relationship between the features and the response using scatterplots\n",
    "fig, axs = plt.subplots(1, 3, sharey=True)\n",
    "df.plot(kind='scatter', x='Evapotranspiration', y='Observed', ax=axs[0], figsize=(20, 8))\n",
    "df.plot(kind='scatter', x='Precipitation', y='Observed', ax=axs[1])\n",
    "df.plot(kind='scatter', x='Irrigation_pumping', y='Observed', ax=axs[2])\n",
    "axs[0].set_title('Evapotranspiration vs Baseflow')\n",
    "axs[1].set_title('Precipitation vs Baseflow')\n",
    "axs[2].set_title('Irrigation Pumping vs Baseflow')"
   ]
  },
  {
   "cell_type": "code",
   "execution_count": null,
   "metadata": {},
   "outputs": [],
   "source": [
    "# visualize the relationship between the features and the response using scatterplots\n",
    "fig, axs = plt.subplots(1, 2, sharey=True)\n",
    "df.plot(kind='scatter', x='x', y='Observed', ax=axs[0], figsize=(16, 8))\n",
    "df.plot(kind='scatter', x='y', y='Observed', ax=axs[1])\n",
    "axs[0].set_title('X Coordinate of Segment vs Baseflow')\n",
    "axs[1].set_title('Y Coordinate of Segment vs Baseflow')\n"
   ]
  },
  {
   "cell_type": "code",
   "execution_count": null,
   "metadata": {},
   "outputs": [],
   "source": [
    "plt.figure(figsize=(10, 8))\n",
    "sns.scatterplot(data=df, x='x', y='y', size='Observed', sizes=(50, 500), hue='year')\n",
    "plt.title('X,Y Coordinates of Segments and Their Corresponding Baseflow')"
   ]
  },
  {
   "cell_type": "code",
   "execution_count": null,
   "metadata": {},
   "outputs": [],
   "source": [
    "plt.figure(figsize=(10, 8))\n",
    "sns.scatterplot(data=df, x='x', y='y', size='Precipitation', sizes=(50, 500), hue='year')\n",
    "plt.title('X,Y Coordinates of Segments and Their Corresponding Precipitation')"
   ]
  },
  {
   "cell_type": "markdown",
   "metadata": {},
   "source": [
    "## Linear regression models"
   ]
  },
  {
   "cell_type": "markdown",
   "metadata": {},
   "source": [
    "### Split the data into two groups"
   ]
  },
  {
   "cell_type": "code",
   "execution_count": null,
   "metadata": {},
   "outputs": [],
   "source": [
    "decreasingMonthsDF = df[df.month.isin(range(2, 8))].reset_index()\n",
    "increasingMonthsDF = df[df.month.isin([1, 8, 9, 10, 11, 12])].reset_index()\n",
    "increasingMonthsDF.loc[increasingMonthsDF['month'] == 1, 'month'] = 13"
   ]
  },
  {
   "cell_type": "code",
   "execution_count": null,
   "metadata": {},
   "outputs": [],
   "source": [
    "sns.regplot(data=decreasingMonthsDF, x='month', y='Observed')\n",
    "plt.title('Month vs Baseflow')\n",
    "plt.xlabel('Month')\n",
    "plt.ylabel('Observed Baseflow')"
   ]
  },
  {
   "cell_type": "code",
   "execution_count": null,
   "metadata": {},
   "outputs": [],
   "source": [
    "sns.regplot(data=increasingMonthsDF, x='month', y='Observed')\n",
    "plt.title('Month vs Baseflow')\n",
    "plt.xlabel('Month')\n",
    "plt.ylabel('Observed Baseflow')"
   ]
  },
  {
   "cell_type": "markdown",
   "metadata": {},
   "source": [
    "### Linear regression testing"
   ]
  },
  {
   "cell_type": "code",
   "execution_count": null,
   "metadata": {},
   "outputs": [],
   "source": [
    "from scipy.stats import pearsonr\n",
    "\n",
    "# Compute the Pearson correlation coefficient and p-value\n",
    "pearson_corr, p_value = pearsonr(df['month'], df['Observed'])\n",
    "\n",
    "print(\"Pearson correlation coefficient:\", pearson_corr)\n",
    "print(\"p-value:\", p_value)\n",
    "\n",
    "# Compute the Pearson correlation coefficient and p-value\n",
    "pearson_corr, p_value = pearsonr(decreasingMonthsDF['month'], decreasingMonthsDF['Observed'])\n",
    "\n",
    "print(\"Pearson correlation coefficient:\", pearson_corr)\n",
    "print(\"p-value:\", p_value)\n",
    "\n",
    "# Compute the Pearson correlation coefficient and p-value\n",
    "pearson_corr, p_value = pearsonr(increasingMonthsDF['month'], increasingMonthsDF['Observed'])\n",
    "\n",
    "print(\"Pearson correlation coefficient:\", pearson_corr)\n",
    "print(\"p-value:\", p_value)"
   ]
  },
  {
   "cell_type": "code",
   "execution_count": null,
   "metadata": {},
   "outputs": [],
   "source": [
    "# create X and y\n",
    "# feature_cols = ['month', 'Date', 'Evapotranspiration', 'Precipitation', 'x', 'y']\n",
    "feature_cols = ['month']\n",
    "X = decreasingMonthsDF[feature_cols]\n",
    "y = decreasingMonthsDF.Observed\n",
    "\n",
    "# follow the usual sklearn pattern: import, instantiate, fit\n",
    "from sklearn.linear_model import LinearRegression\n",
    "lm = LinearRegression()\n",
    "lm.fit(X, y)\n",
    "\n",
    "# print intercept and coefficients\n",
    "print(lm.intercept_)\n",
    "print(lm.coef_)\n",
    "print(lm.score(X, y))"
   ]
  },
  {
   "cell_type": "markdown",
   "metadata": {},
   "source": [
    "### Linear regression on unsplit data"
   ]
  },
  {
   "cell_type": "code",
   "execution_count": null,
   "metadata": {},
   "outputs": [],
   "source": [
    "feature_cols = feature_cols = ['y', 'x', 'Precipitation', 'Evapotranspiration', 'month', 'Irrigation_pumping', 'Date']\n",
    "crossValidations = 20\n",
    "avgRSquared = 0\n",
    "for _ in range(crossValidations):\n",
    "        X = df[feature_cols]\n",
    "        y = df['Observed']\n",
    "\n",
    "        X_train, X_test, y_train, y_test = train_test_split(X, y, test_size=0.25)#, random_state=42)\n",
    "\n",
    "        lm = LinearRegression()\n",
    "        lm.fit(X_train, y_train)\n",
    "        \n",
    "        avgRSquared += lm.score(X_test, y_test)\n",
    "avgRSquared /= crossValidations\n",
    "avgRSquared"
   ]
  },
  {
   "cell_type": "code",
   "execution_count": null,
   "metadata": {},
   "outputs": [],
   "source": [
    "import statsmodels.formula.api as smf\n",
    "\n",
    "lm = smf.ols(formula='Observed ~ y + x + Precipitation + Evapotranspiration + month + Irrigation_pumping + Date', data=df).fit()\n",
    "\n",
    "# print the coefficients\n",
    "display(lm.params)\n",
    "display(lm.pvalues)\n",
    "\n",
    "# print a summary of the fitted model\n",
    "lm.summary()"
   ]
  },
  {
   "cell_type": "code",
   "execution_count": null,
   "metadata": {},
   "outputs": [],
   "source": [
    "# create X and y\n",
    "feature_cols = ['month']\n",
    "X = df[feature_cols]\n",
    "y = df.Observed\n",
    "\n",
    "# follow the usual sklearn pattern: import, instantiate, fit\n",
    "from sklearn.linear_model import LinearRegression\n",
    "lm = LinearRegression()\n",
    "lm.fit(X, y)\n",
    "\n",
    "# print intercept and coefficients\n",
    "print(lm.intercept_)\n",
    "print(lm.coef_)\n",
    "print(lm.score(X, y))"
   ]
  },
  {
   "cell_type": "code",
   "execution_count": null,
   "metadata": {},
   "outputs": [],
   "source": [
    "import statsmodels.formula.api as smf\n",
    "\n",
    "lm = smf.ols(formula='Observed ~ month', data=df).fit()\n",
    "\n",
    "# print the coefficients\n",
    "display(lm.params)\n",
    "display(lm.pvalues)\n",
    "\n",
    "# print a summary of the fitted model\n",
    "lm.summary()"
   ]
  },
  {
   "cell_type": "markdown",
   "metadata": {},
   "source": [
    "### Linear regression on split data"
   ]
  },
  {
   "cell_type": "markdown",
   "metadata": {},
   "source": [
    "#### Months 2-7"
   ]
  },
  {
   "cell_type": "code",
   "execution_count": null,
   "metadata": {},
   "outputs": [],
   "source": [
    "feature_cols = feature_cols = ['y', 'x', 'Precipitation', 'Evapotranspiration', 'month', 'Irrigation_pumping', 'Date']\n",
    "crossValidations = 20\n",
    "avgRSquared = 0\n",
    "for _ in range(crossValidations):\n",
    "        X = decreasingMonthsDF[feature_cols]\n",
    "        y = decreasingMonthsDF['Observed']\n",
    "\n",
    "        X_train, X_test, y_train, y_test = train_test_split(X, y, test_size=0.25)#, random_state=42)\n",
    "\n",
    "        lm = LinearRegression()\n",
    "        lm.fit(X_train, y_train)\n",
    "        \n",
    "        avgRSquared += lm.score(X_test, y_test)\n",
    "avgRSquared /= crossValidations\n",
    "avgRSquared"
   ]
  },
  {
   "cell_type": "code",
   "execution_count": null,
   "metadata": {},
   "outputs": [],
   "source": [
    "import statsmodels.formula.api as smf\n",
    "\n",
    "lm = smf.ols(formula='Observed ~ y + x + Precipitation + Evapotranspiration + month + Irrigation_pumping + Date', data=decreasingMonthsDF).fit()\n",
    "\n",
    "# print the coefficients\n",
    "display(lm.params)\n",
    "display(lm.pvalues)\n",
    "\n",
    "# print a summary of the fitted model\n",
    "lm.summary()"
   ]
  },
  {
   "cell_type": "code",
   "execution_count": null,
   "metadata": {},
   "outputs": [],
   "source": [
    "# create X and y\n",
    "feature_cols = ['month']\n",
    "X = decreasingMonthsDF[feature_cols]\n",
    "y = decreasingMonthsDF.Observed\n",
    "\n",
    "# follow the usual sklearn pattern: import, instantiate, fit\n",
    "from sklearn.linear_model import LinearRegression\n",
    "lm = LinearRegression()\n",
    "lm.fit(X, y)\n",
    "\n",
    "# print intercept and coefficients\n",
    "print(lm.intercept_)\n",
    "print(lm.coef_)\n",
    "print(lm.score(X, y))"
   ]
  },
  {
   "cell_type": "code",
   "execution_count": null,
   "metadata": {},
   "outputs": [],
   "source": [
    "import statsmodels.formula.api as smf\n",
    "\n",
    "lm = smf.ols(formula='Observed ~ month', data=decreasingMonthsDF).fit()\n",
    "\n",
    "# print the coefficients\n",
    "display(lm.params)\n",
    "display(lm.pvalues)\n",
    "\n",
    "# print a summary of the fitted model\n",
    "lm.summary()"
   ]
  },
  {
   "cell_type": "markdown",
   "metadata": {},
   "source": [
    "#### Months 8-12, 1"
   ]
  },
  {
   "cell_type": "code",
   "execution_count": null,
   "metadata": {},
   "outputs": [],
   "source": [
    "feature_cols = feature_cols = ['y', 'x', 'Precipitation', 'Evapotranspiration', 'month', 'Irrigation_pumping', 'Date']\n",
    "crossValidations = 20\n",
    "avgRSquared = 0\n",
    "for _ in range(crossValidations):\n",
    "        X = increasingMonthsDF[feature_cols]\n",
    "        y = increasingMonthsDF['Observed']\n",
    "\n",
    "        X_train, X_test, y_train, y_test = train_test_split(X, y, test_size=0.25)#, random_state=42)\n",
    "\n",
    "        lm = LinearRegression()\n",
    "        lm.fit(X_train, y_train)\n",
    "        \n",
    "        avgRSquared += lm.score(X_test, y_test)\n",
    "avgRSquared /= crossValidations\n",
    "avgRSquared"
   ]
  },
  {
   "cell_type": "code",
   "execution_count": null,
   "metadata": {},
   "outputs": [],
   "source": [
    "import statsmodels.formula.api as smf\n",
    "\n",
    "lm = smf.ols(formula='Observed ~ y + x + Precipitation + Evapotranspiration + month + Irrigation_pumping + Date', data=increasingMonthsDF).fit()\n",
    "\n",
    "# print the coefficients\n",
    "display(lm.params)\n",
    "display(lm.pvalues)\n",
    "\n",
    "# print a summary of the fitted model\n",
    "lm.summary()"
   ]
  },
  {
   "cell_type": "code",
   "execution_count": null,
   "metadata": {},
   "outputs": [],
   "source": [
    "# create X and y\n",
    "feature_cols = ['month']\n",
    "X = increasingMonthsDF[feature_cols]\n",
    "y = increasingMonthsDF.Observed\n",
    "\n",
    "# follow the usual sklearn pattern: import, instantiate, fit\n",
    "from sklearn.linear_model import LinearRegression\n",
    "lm = LinearRegression()\n",
    "lm.fit(X, y)\n",
    "\n",
    "# print intercept and coefficients\n",
    "print(lm.intercept_)\n",
    "print(lm.coef_)\n",
    "print(lm.score(X, y))"
   ]
  },
  {
   "cell_type": "code",
   "execution_count": null,
   "metadata": {},
   "outputs": [],
   "source": [
    "import statsmodels.formula.api as smf\n",
    "\n",
    "lm = smf.ols(formula='Observed ~ month', data=increasingMonthsDF).fit()\n",
    "\n",
    "# print the coefficients\n",
    "display(lm.params)\n",
    "display(lm.pvalues)\n",
    "\n",
    "# print a summary of the fitted model\n",
    "lm.summary()"
   ]
  }
 ],
 "metadata": {
  "kernelspec": {
   "display_name": "Python 3",
   "language": "python",
   "name": "python3"
  },
  "language_info": {
   "codemirror_mode": {
    "name": "ipython",
    "version": 3
   },
   "file_extension": ".py",
   "mimetype": "text/x-python",
   "name": "python",
   "nbconvert_exporter": "python",
   "pygments_lexer": "ipython3",
   "version": "3.11.0"
  }
 },
 "nbformat": 4,
 "nbformat_minor": 2
}
